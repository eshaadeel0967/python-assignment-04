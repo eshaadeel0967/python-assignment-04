{
  "nbformat": 4,
  "nbformat_minor": 0,
  "metadata": {
    "colab": {
      "provenance": []
    },
    "kernelspec": {
      "name": "python3",
      "display_name": "Python 3"
    },
    "language_info": {
      "name": "python"
    }
  },
  "cells": [
    {
      "cell_type": "markdown",
      "source": [
        "# **Liftoff!**\n",
        "\n",
        "Write a program that prints out the calls for a spaceship that is about to launch. Countdown from 10 to 1 and then output Liftoff!"
      ],
      "metadata": {
        "id": "MbkTWPwLFMKz"
      }
    },
    {
      "cell_type": "code",
      "execution_count": 4,
      "metadata": {
        "colab": {
          "base_uri": "https://localhost:8080/"
        },
        "id": "zoQpXMe_FGfA",
        "outputId": "e706bccf-6cfb-4dbd-e139-516e05194607"
      },
      "outputs": [
        {
          "output_type": "stream",
          "name": "stdout",
          "text": [
            "\n",
            "🚀🚀 🛸 Preparing for launch... 🚀🚀\n",
            "\n",
            "10 9 8 7 6 5 4 3 2 1 \n",
            " \n",
            "🛸 Liftoff... \n"
          ]
        }
      ],
      "source": [
        "print(\"\\n🚀🚀 🛸 Preparing for launch... 🚀🚀\\n\")\n",
        "\n",
        "def main():\n",
        "  for i in range(10,0,-1):\n",
        "    print(i, end=\" \",flush=True)\n",
        "\n",
        "if __name__==\"__main__\":\n",
        "  main()\n",
        "\n",
        "\n",
        "print(\"\\n \\n🛸 Liftoff... \")"
      ]
    }
  ]
}