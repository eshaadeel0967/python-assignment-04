{
  "nbformat": 4,
  "nbformat_minor": 0,
  "metadata": {
    "colab": {
      "provenance": []
    },
    "kernelspec": {
      "name": "python3",
      "display_name": "Python 3"
    },
    "language_info": {
      "name": "python"
    }
  },
  "cells": [
    {
      "cell_type": "markdown",
      "source": [
        "# **Double It Game**\n",
        "\n",
        "Write a program that asks a user to enter a number. Your program will then double that number and print out the result. It will repeat that process until the value is 100 or greater."
      ],
      "metadata": {
        "id": "MX5Wq87EDqi5"
      }
    },
    {
      "cell_type": "code",
      "execution_count": 1,
      "metadata": {
        "colab": {
          "base_uri": "https://localhost:8080/"
        },
        "id": "HhJocSVbDD64",
        "outputId": "54d6250e-e9d4-4632-85a6-4f1703ad5ecd"
      },
      "outputs": [
        {
          "output_type": "stream",
          "name": "stdout",
          "text": [
            "🎊 Welcome to the Dobule it Game 🎊\n",
            "Enter a number (between 2 to 10) and i will double it until 100.5\n",
            "Double Sequence\n",
            "5, 10, 20, 40, 80, \n",
            "🎯 Reached the limit!\n"
          ]
        }
      ],
      "source": [
        "print(\"🎊 Welcome to the Dobule it Game 🎊\")\n",
        "def main():\n",
        "    num:int = int(input(\"Enter a number (between 2 to 10) and i will double it until 100.\"))\n",
        "    if num < 2 or num > 10:\n",
        "        print(\"⚠️ Please enter the number between 2 to 10\")\n",
        "        return\n",
        "\n",
        "    print(\"Double Sequence\")\n",
        "    while num <= 100:\n",
        "      print(num, end=\", \")\n",
        "      num *= 2\n",
        "\n",
        "    print(\"\\n🎯 Reached the limit!\")\n",
        "\n",
        "if __name__ == '__main__':\n",
        "    main()"
      ]
    }
  ]
}