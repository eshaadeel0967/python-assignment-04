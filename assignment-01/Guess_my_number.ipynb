{
  "nbformat": 4,
  "nbformat_minor": 0,
  "metadata": {
    "colab": {
      "provenance": []
    },
    "kernelspec": {
      "name": "python3",
      "display_name": "Python 3"
    },
    "language_info": {
      "name": "python"
    }
  },
  "cells": [
    {
      "cell_type": "markdown",
      "source": [
        "# **Guess_my_number**\n",
        "\n",
        "a program which play guess a number"
      ],
      "metadata": {
        "id": "F0TBtCVZF8Cc"
      }
    },
    {
      "cell_type": "code",
      "execution_count": 2,
      "metadata": {
        "colab": {
          "base_uri": "https://localhost:8080/"
        },
        "id": "mgrsTcP9F3h1",
        "outputId": "6bd328c8-8c06-4d08-b008-1a947baf8b16"
      },
      "outputs": [
        {
          "output_type": "stream",
          "name": "stdout",
          "text": [
            "I am thinking of a number between 1 and 99...\n",
            "Enter a guess: 50\n",
            "Your guess is too low\n",
            "\n",
            "Enter a new guess: 60\n",
            "Your guess is too low\n",
            "\n",
            "Enter a new guess: 70\n",
            "Your guess is too low\n",
            "\n",
            "Enter a new guess: 90\n",
            "Your guess is too high\n",
            "\n",
            "Enter a new guess: 80\n",
            "Congrats! The number was: 80\n"
          ]
        }
      ],
      "source": [
        "import random\n",
        "\n",
        "def main():\n",
        "    secret_number: int = random.randint(1, 99)\n",
        "\n",
        "    print(\"I am thinking of a number between 1 and 99...\")\n",
        "\n",
        "    guess = int(input(\"Enter a guess: \"))\n",
        "    while guess != secret_number:\n",
        "        if guess < secret_number:\n",
        "            print(\"Your guess is too low\")\n",
        "        else:\n",
        "            print(\"Your guess is too high\")\n",
        "\n",
        "        print()\n",
        "        guess: int = int(input(\"Enter a new guess: \"))\n",
        "\n",
        "    print(\"Congrats! The number was: \" + str(secret_number))\n",
        "\n",
        "if __name__ == '__main__':\n",
        "    main()\n"
      ]
    }
  ]
}