{
  "nbformat": 4,
  "nbformat_minor": 0,
  "metadata": {
    "colab": {
      "provenance": []
    },
    "kernelspec": {
      "name": "python3",
      "display_name": "Python 3"
    },
    "language_info": {
      "name": "python"
    }
  },
  "cells": [
    {
      "cell_type": "markdown",
      "source": [
        "# **Random Number**\n",
        "\n",
        "Print 10 random numbers in the range 1 to 100."
      ],
      "metadata": {
        "id": "voqY-6fkHFyj"
      }
    },
    {
      "cell_type": "code",
      "execution_count": 2,
      "metadata": {
        "colab": {
          "base_uri": "https://localhost:8080/"
        },
        "id": "vTlExrY7HAdO",
        "outputId": "c8c3b379-b286-4d3d-ad51-c3d7ee607ef7"
      },
      "outputs": [
        {
          "output_type": "stream",
          "name": "stdout",
          "text": [
            "\n",
            "🎊 Generate 10 Random Number between 1 to 100 🎊\n",
            "\n",
            "9 \n",
            "49 \n",
            "77 \n",
            "10 \n",
            "11 \n",
            "17 \n",
            "83 \n",
            "76 \n",
            "2 \n",
            "99 \n"
          ]
        }
      ],
      "source": [
        "import random\n",
        "print(\"\\n🎊 Generate 10 Random Number between 1 to 100 🎊\\n\")\n",
        "\n",
        "def main():\n",
        "  for _ in range(10):\n",
        "    value = random.randint(1,100)\n",
        "    print(value,end=\" \")\n",
        "\n",
        "    print()\n",
        "if __name__==\"__main__\":\n",
        "  main()\n"
      ]
    }
  ]
}