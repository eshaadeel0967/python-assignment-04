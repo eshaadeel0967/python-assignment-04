{
  "nbformat": 4,
  "nbformat_minor": 0,
  "metadata": {
    "colab": {
      "provenance": [],
      "authorship_tag": "ABX9TyO+8QFMi1/DsNm7Blge0pt2",
      "include_colab_link": true
    },
    "kernelspec": {
      "name": "python3",
      "display_name": "Python 3"
    },
    "language_info": {
      "name": "python"
    }
  },
  "cells": [
    {
      "cell_type": "markdown",
      "metadata": {
        "id": "view-in-github",
        "colab_type": "text"
      },
      "source": [
        "<a href=\"https://colab.research.google.com/github/eshaadeel0967/python-assignment-04/blob/main/Assignment%2000%20to%2005.ipynb\" target=\"_parent\"><img src=\"https://colab.research.google.com/assets/colab-badge.svg\" alt=\"Open In Colab\"/></a>"
      ]
    },
    {
      "cell_type": "markdown",
      "source": [
        "Great! If you're working on the project from the Panaverse 'Learn Modern AI Python' repository and want to write a brief introduction at the start of your Colab notebook, here's a template you can use to explain the project and its goals:\n",
        "\n",
        "---\n",
        "\n",
        "#**Introduction to the Assignment-04**\n",
        "\n",
        "Welcome to my project for the Panaverse \"Learn Modern AI Python\" course. This notebook contains the solutions and exercises for the **04 Assignments** section. The purpose of this project is to enhance understanding of Python in the context of modern AI applications, particularly in using data, algorithms, and machine learning techniques.\n",
        "\n",
        "In this notebook, you will find:\n",
        "\n",
        "- **Problem-solving exercises:** Step-by-step approaches to implementing AI solutions.\n",
        "- **Python concepts:** Practical applications of the Python language for AI.\n",
        "- **Machine learning models:** Implementations and evaluations of ML algorithms.\n",
        "\n",
        "This work is designed to help reinforce Python programming skills, algorithmic thinking, and the foundation of machine learning, all of which are essential for developing more complex AI systems.\n",
        "\n",
        "Let’s dive into the assignments!\n",
        "\n"
      ],
      "metadata": {
        "id": "HXG-xpbvh231"
      }
    },
    {
      "cell_type": "markdown",
      "source": [
        "#Add two Number program\n",
        "\n",
        "This python program ask user for two numbers and responds with the sum of given number"
      ],
      "metadata": {
        "id": "jNoyNXbPiyhp"
      }
    },
    {
      "cell_type": "code",
      "execution_count": 1,
      "metadata": {
        "colab": {
          "base_uri": "https://localhost:8080/"
        },
        "id": "3TsrlsiNggoP",
        "outputId": "6ad0eb3d-2df2-44a8-cf68-3862927a3bb8"
      },
      "outputs": [
        {
          "output_type": "stream",
          "name": "stdout",
          "text": [
            "This program adds two numbers\n",
            "Enter first number: 6\n",
            "Enter second number: 7\n",
            "The sum of 6.0 and 7.0 is 13.0\n"
          ]
        }
      ],
      "source": [
        "def main():\n",
        "    print(\"This program adds two numbers\")\n",
        "    number1 = float(input(\"Enter first number: \"))\n",
        "    number2 = float(input(\"Enter second number: \"))\n",
        "    result = number1 + number2\n",
        "    print(\"The sum of\", number1, \"and\", number2, \"is\", result)\n",
        "\n",
        "if __name__ == '__main__':\n",
        "    main()"
      ]
    },
    {
      "cell_type": "markdown",
      "source": [
        "# Favorite Animal Program\n",
        "\n",
        "This Python program asks the user for their favorite animal and responds with a message saying that the program's favorite animal is also the same. It helps practice basic concepts like taking user input and printing dynamic responses.\n",
        "\n",
        "## Problem Statement\n",
        "\n",
        "The program prompts the user to input their favorite animal, and then responds with the message:  \n",
        "**\"My favorite animal is also ___!\"**  \n",
        "where the blank is filled with the animal that the user provided.\n"
      ],
      "metadata": {
        "id": "P6crTqSFkfK1"
      }
    },
    {
      "cell_type": "code",
      "source": [
        "def main():\n",
        "    print(\"This program will tell you what your favorite animal is\")\n",
        "    animal = input(\"What is your favorite animal? \\n\")\n",
        "    print(\"My favorite animal is also\", animal,\"!!\")\n",
        "if __name__ == '__main__':\n",
        "    main()"
      ],
      "metadata": {
        "colab": {
          "base_uri": "https://localhost:8080/"
        },
        "id": "35Voeir1lSsq",
        "outputId": "5cf731a5-a506-4399-89ef-f2981c40f401"
      },
      "execution_count": 4,
      "outputs": [
        {
          "output_type": "stream",
          "name": "stdout",
          "text": [
            "This program will tell you what your favorite animal is\n",
            "What is your favorite animal? \n",
            "cow\n",
            "My favorite animal is also cow !!\n"
          ]
        }
      ]
    },
    {
      "cell_type": "markdown",
      "source": [
        "# Fahrenheit to Celsius Conversion Program\n",
        "\n",
        "This Python program allows users to convert temperature values from Fahrenheit to Celsius. The program takes an input temperature in Fahrenheit, converts it to Celsius using the standard formula, and displays the result.\n",
        "\n",
        "## Problem Statement\n",
        "\n",
        "The program prompts the user to enter a temperature in Fahrenheit and then converts it into Celsius using the formula.\n",
        "\n",
        "## Features\n",
        "\n",
        "- Takes user input to get a temperature value in Fahrenheit.\n",
        "- Converts the Fahrenheit value to Celsius using the correct formula.\n",
        "- Outputs the result in a readable format, rounding the Celsius value to two decimal places for precision.\n",
        "- Simple and user-friendly interaction.\n",
        "\n",
        "\n"
      ],
      "metadata": {
        "id": "wR0zHoVoltqi"
      }
    },
    {
      "cell_type": "code",
      "source": [
        "def main():\n",
        "    print(\"This program converts Fahrenheit to Celsius\")\n",
        "    fahrenheit = float(input(\"Enter temperature in Fahrenheit: \\n\"))\n",
        "    celsius = (fahrenheit - 32) * 5/9\n",
        "    print(\"The temperature in Celsius is\", round(celsius, 2))\n",
        "if __name__ == '__main__':\n",
        "    main()"
      ],
      "metadata": {
        "colab": {
          "base_uri": "https://localhost:8080/"
        },
        "id": "-bf8TfZHl9ax",
        "outputId": "5d889749-9432-4304-99b8-5a36923115b2"
      },
      "execution_count": 7,
      "outputs": [
        {
          "output_type": "stream",
          "name": "stdout",
          "text": [
            "This program converts Fahrenheit to Celsius\n",
            "Enter temperature in Fahrenheit: \n",
            "76\n",
            "The temperature in Celsius is 24.44\n"
          ]
        }
      ]
    },
    {
      "cell_type": "markdown",
      "source": [
        "Write a program to solve this age-related riddle!\n",
        "\n",
        "Anton, Beth, Chen, Drew, and Ethan are all friends. Their ages are as follows:\n",
        "\n",
        "Anton is 21 years old.\n",
        "\n",
        "Beth is 6 years older than Anton.\n",
        "\n",
        "Chen is 20 years older than Beth.\n",
        "\n",
        "what is the age of Chen when Anton is 26 years old?\n",
        "\n",
        "\n",
        "Your code should store each person's age to a variable and print their names and ages at the end. The autograder is sensitive to capitalization and punctuation, be careful! Your solution should look like this (the below numbers are made up -- your solution should have the correct values!)"
      ],
      "metadata": {
        "id": "6-ts-d-am0KX"
      }
    },
    {
      "cell_type": "code",
      "source": [
        "def main():\n",
        "    anton : int = 21  # Anton's age is given as 21 years old\n",
        "    beth : int = 6 + anton  # Beth is 6 years older than Anton, so add 6 to Anton's age to get Beth's\n",
        "    chen : int = 20 + beth  # Chen is 20 years older than Beth, so add 20 to Beth's age to get Chen's\n",
        "\n",
        "\n",
        "   # Print out all of the ages!\n",
        "    print(\"Anton is \" + str(anton))\n",
        "    print(\"Beth is \" + str(beth))\n",
        "    print(\"Chen is \" + str(chen))\n",
        "    anton = 26\n",
        "    chen = anton + 26\n",
        "    print(\"Chen is now \" + str(chen))\n",
        "\n",
        "# There is no need to edit code beyond this point\n",
        "\n",
        "if __name__ == '__main__':\n",
        "    main()"
      ],
      "metadata": {
        "colab": {
          "base_uri": "https://localhost:8080/"
        },
        "id": "pwrR7vionYZN",
        "outputId": "46e1533c-eee2-41a9-a64f-280c784553b6"
      },
      "execution_count": 11,
      "outputs": [
        {
          "output_type": "stream",
          "name": "stdout",
          "text": [
            "Anton is 21\n",
            "Beth is 27\n",
            "Chen is 47\n",
            "Chen is now 52\n"
          ]
        }
      ]
    },
    {
      "cell_type": "markdown",
      "source": [
        "# **Triangle Perimeter**\n",
        "\n",
        "This python program ask user for the lengths of each side of a triangle and then calculate and print the perimeter of the triangle (the sum of all of the side lengths).\n"
      ],
      "metadata": {
        "id": "g7tWEd_gouLV"
      }
    },
    {
      "cell_type": "code",
      "source": [
        "def main():\n",
        "\n",
        "    side1: float = float(input(\"What is the length of side 1? \"))\n",
        "    side2: float = float(input(\"What is the length of side 2? \"))\n",
        "    side3: float = float(input(\"What is the length of side 3? \"))\n",
        "\n",
        "    print(\"The perimeter of the triangle is \" + str(side1 + side2 + side3))\n",
        "\n",
        "if __name__ == '__main__':\n",
        "    main()"
      ],
      "metadata": {
        "colab": {
          "base_uri": "https://localhost:8080/"
        },
        "id": "2KuW8Eu6qFW6",
        "outputId": "6b1c0fd2-c640-4d33-d012-e00b496ea8f1"
      },
      "execution_count": 12,
      "outputs": [
        {
          "output_type": "stream",
          "name": "stdout",
          "text": [
            "What is the length of side 1? 3\n",
            "What is the length of side 2? 3\n",
            "What is the length of side 3? 3\n",
            "The perimeter of the triangle is 9.0\n"
          ]
        }
      ]
    }
  ]
}