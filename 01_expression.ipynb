{
  "nbformat": 4,
  "nbformat_minor": 0,
  "metadata": {
    "colab": {
      "provenance": [],
      "authorship_tag": "ABX9TyOM9jfyAIqI2F1W8r/fRdlN",
      "include_colab_link": true
    },
    "kernelspec": {
      "name": "python3",
      "display_name": "Python 3"
    },
    "language_info": {
      "name": "python"
    }
  },
  "cells": [
    {
      "cell_type": "markdown",
      "metadata": {
        "id": "view-in-github",
        "colab_type": "text"
      },
      "source": [
        "<a href=\"https://colab.research.google.com/github/eshaadeel0967/python-assignment-04/blob/main/01_expression.ipynb\" target=\"_parent\"><img src=\"https://colab.research.google.com/assets/colab-badge.svg\" alt=\"Open In Colab\"/></a>"
      ]
    },
    {
      "cell_type": "markdown",
      "source": [
        "# **Dice Simulator**\n",
        "\n",
        "**Task:-**\n",
        "\n",
        "        Simulate rolling two dice, three times. Prints the results of each die roll. This program is used to show how variable scope works."
      ],
      "metadata": {
        "id": "ryrO18QgAB1i"
      }
    },
    {
      "cell_type": "code",
      "execution_count": null,
      "metadata": {
        "colab": {
          "base_uri": "https://localhost:8080/"
        },
        "id": "B8Mw5tdG_67A",
        "outputId": "80d49238-3ab8-4224-b433-b38d03aba105"
      },
      "outputs": [
        {
          "output_type": "stream",
          "name": "stdout",
          "text": [
            "Total of dice 12\n",
            "Total of dice 4\n",
            "Total of dice 8\n"
          ]
        }
      ],
      "source": [
        "import random\n",
        "sides = 6\n",
        "\n",
        "def roll_dice():\n",
        "    \"\"\"\n",
        "    Simulates rolling two dice and prints their total\n",
        "    \"\"\"\n",
        "    dice1: int = random.randint(1, sides)\n",
        "    dice2: int = random.randint(1, sides)\n",
        "    total: int = dice1 + dice2\n",
        "    print(\"Total of dice\", total)\n",
        "\n",
        "def main():\n",
        "    roll_dice()\n",
        "    roll_dice()\n",
        "    roll_dice()\n",
        "\n",
        "if __name__ == '__main__':\n",
        "    main()"
      ]
    },
    {
      "cell_type": "markdown",
      "source": [
        "# **02_E=mc2**\n",
        "\n",
        "Write a program that continually reads in mass from the user and then outputs the equivalent energy using Einstein's mass-energy equivalence formula (E stands for energy, m stands for mass, and C is the speed of light:\n",
        "\n",
        "`E = m * c**2`"
      ],
      "metadata": {
        "id": "bgBJ-ItyByhx"
      }
    },
    {
      "cell_type": "code",
      "source": [
        "c=299792458\n",
        "def main():\n",
        "  m=input('Enter mass of molecule in kg')\n",
        "  E=float(m)*c**2\n",
        "  print('Energy of molecule is',E)\n",
        "\n",
        "\n",
        "if __name__ == '__main__':\n",
        "    main()"
      ],
      "metadata": {
        "colab": {
          "base_uri": "https://localhost:8080/"
        },
        "id": "fQVQSiNWCT5_",
        "outputId": "c9679019-fac3-405b-a144-a3383318c645"
      },
      "execution_count": null,
      "outputs": [
        {
          "output_type": "stream",
          "name": "stdout",
          "text": [
            "Enter mass of molecule in kg43\n",
            "Energy of molecule is 3.864647268568316e+18\n"
          ]
        }
      ]
    },
    {
      "cell_type": "markdown",
      "source": [
        "# **03_Feet_in_Inches**\n",
        "\n",
        "Converts feet to inches. Feet is an American unit of measurement. There are 12 inches per foot. Foot is the singular, and feet is the plural."
      ],
      "metadata": {
        "id": "mRZPBkZL71hl"
      }
    },
    {
      "cell_type": "code",
      "source": [
        "inch_in_ft = 12\n",
        "def main():\n",
        "    ft = input(\"Enter number of feet: \")\n",
        "    print(ft, \"feet is\", int(ft) * inch_in_ft, \"inches.\")\n",
        "\n",
        "\n",
        "\n",
        "if __name__ == '__main__':\n",
        "    main()"
      ],
      "metadata": {
        "colab": {
          "base_uri": "https://localhost:8080/"
        },
        "id": "XpsM2Mgx8Ncy",
        "outputId": "6eb77558-813a-4965-e09d-0905452ab1f1"
      },
      "execution_count": null,
      "outputs": [
        {
          "output_type": "stream",
          "name": "stdout",
          "text": [
            "Enter number of feet: 4\n",
            "4 feet is 48 inches.\n"
          ]
        }
      ]
    },
    {
      "cell_type": "markdown",
      "source": [
        "# **04_Pythagorean_Theorem**\n",
        "\n",
        "**Task:-**\n",
        "\n",
        "Write a program that asks the user for the lengths of the two perpendicular sides of a right triangle and outputs the length of the third side (the hypotenuse) using the Pythagorean theorem!"
      ],
      "metadata": {
        "id": "QjEyUFFZ9Qmq"
      }
    },
    {
      "cell_type": "code",
      "source": [
        "import math\n",
        "\n",
        "def main():\n",
        "    a = float(input(\"Enter the length of side A: \"))\n",
        "    b = float(input(\"Enter the length of side B: \"))\n",
        "    c = math.sqrt(a**2 + b**2)\n",
        "    print(\"The hypotenuse of the triangle ABC where A=\",a ,\"and B=\", b ,\"is\",c )\n",
        "\n",
        "\n",
        "\n",
        "if __name__ == '__main__':\n",
        "    main()"
      ],
      "metadata": {
        "colab": {
          "base_uri": "https://localhost:8080/"
        },
        "id": "YVnex0nj9vt9",
        "outputId": "16dc88a2-18ae-4dcf-ffb4-207a861621cb"
      },
      "execution_count": null,
      "outputs": [
        {
          "output_type": "stream",
          "name": "stdout",
          "text": [
            "Enter the length of side A: 3\n",
            "Enter the length of side B: 4\n",
            "The hypotenuse of the triangle ABC where A= 3.0 and B= 4.0 is 5.0\n"
          ]
        }
      ]
    },
    {
      "cell_type": "markdown",
      "source": [
        "# **05_Remainder_Division**\n",
        "\n",
        "Ask the user for two numbers, one at a time, and then print the result of dividing the first number by the second and also the remainder of the division."
      ],
      "metadata": {
        "id": "g_KN7ngA_WGb"
      }
    },
    {
      "cell_type": "code",
      "source": [
        "def main():\n",
        "  # Dividend ÷ Divisor = Quotient.\n",
        "    Dividend = float(input(\"Enter the dividend: \"))\n",
        "    Divisor = float(input(\"Enter the divisor:\"))\n",
        "    Quotient = Dividend / Divisor\n",
        "    remainder = Dividend % Divisor\n",
        "    print(Dividend, \"÷\", Divisor, \"=\" ,Quotient)\n",
        "    print(\"The remainder of the division of\", Dividend, \"by\", Divisor, \"is\", remainder)\n",
        "\n",
        "\n",
        "\n",
        "if __name__ == '__main__':\n",
        "    main()"
      ],
      "metadata": {
        "colab": {
          "base_uri": "https://localhost:8080/"
        },
        "id": "3-rfH57P_jM1",
        "outputId": "7055a6d2-9251-421c-bfd6-3da202e4181f"
      },
      "execution_count": null,
      "outputs": [
        {
          "output_type": "stream",
          "name": "stdout",
          "text": [
            "Enter the dividend: 9\n",
            "Enter the divisor:3\n",
            "9.0 ÷ 3.0 = 3.0\n",
            "The remainder of the division of 9.0 by 3.0 is 0.0\n"
          ]
        }
      ]
    },
    {
      "cell_type": "markdown",
      "source": [
        "# **06_Rolldice**\n",
        "\n",
        "Simulate rolling two dice, and prints results of each roll as well as the total."
      ],
      "metadata": {
        "id": "r0YDjb7PBTmZ"
      }
    },
    {
      "cell_type": "code",
      "source": [
        "import random\n",
        "\n",
        "sides = 6\n",
        "\n",
        "def roll_dice():\n",
        "    dice1: int = random.randint(1, sides)\n",
        "    dice2: int = random.randint(1, sides)\n",
        "    total: int = dice1 + dice2\n",
        "    print(\"Dice1:\", dice1)\n",
        "    print(\"Dice2:\", dice2)\n",
        "    print(\"Total of dice\", total)\n",
        "def main():\n",
        "      while True:\n",
        "        roll_dice()\n",
        "        cont = input(\"Want to roll again? (y/n)\")\n",
        "        if cont != \"y\":\n",
        "          print(\"Thanks for playing\")\n",
        "          break\n",
        "\n",
        "\n",
        "# This provided line is required at the end of\n",
        "# Python file to call the main() function.\n",
        "if __name__ == '__main__':\n",
        "    main()"
      ],
      "metadata": {
        "id": "Ne6SpmKuBiZn",
        "colab": {
          "base_uri": "https://localhost:8080/"
        },
        "outputId": "292b817c-60c7-4ca1-d300-0c2e475bb206"
      },
      "execution_count": null,
      "outputs": [
        {
          "output_type": "stream",
          "name": "stdout",
          "text": [
            "Dice1: 1\n",
            "Dice2: 3\n",
            "Total of dice 4\n",
            "Want to roll again? (y/n)y\n",
            "Dice1: 3\n",
            "Dice2: 6\n",
            "Total of dice 9\n",
            "Want to roll again? (y/n)n\n",
            "Thanks for playing\n"
          ]
        }
      ]
    },
    {
      "cell_type": "markdown",
      "source": [
        "# **06_Seconds_in_year**\n",
        "\n",
        "Use Python to calculate the number of seconds in a year"
      ],
      "metadata": {
        "id": "iG0AtiGhD51n"
      }
    },
    {
      "cell_type": "code",
      "source": [
        "days = 365\n",
        "hours = 24\n",
        "min = 60\n",
        "sec = 60\n",
        "\n",
        "def main():\n",
        "    years = input(\"Enter number of years: \")\n",
        "    seconds = int(years) * days * hours * min * sec\n",
        "    print(years, \"years have\", seconds, \"seconds.\")\n",
        "\n",
        "\n",
        "# This provided line is required at the end of\n",
        "# Python file to call the main() function.\n",
        "if __name__ == '__main__':\n",
        "    main()"
      ],
      "metadata": {
        "colab": {
          "base_uri": "https://localhost:8080/"
        },
        "id": "DBhm5iMoEfWV",
        "outputId": "9e71a0eb-d8ed-4342-9ebc-fa98e58e35d6"
      },
      "execution_count": null,
      "outputs": [
        {
          "output_type": "stream",
          "name": "stdout",
          "text": [
            "Enter number of years: 2\n",
            "2 years have 63072000 seconds.\n"
          ]
        }
      ]
    },
    {
      "cell_type": "markdown",
      "source": [
        "# **07_mad_lib_game**\n",
        "\n",
        "Write a program which prompts the user for an adjective, then a noun, then a verb, and then prints a fun sentence with those words!"
      ],
      "metadata": {
        "id": "L2ekPxhVFI_6"
      }
    },
    {
      "cell_type": "code",
      "source": [
        "funny_endings = [\n",
        "    \"and caused a national emergency!\",\n",
        "    \"while singing opera to a confused audience.\",\n",
        "    \"before getting arrested by a group of squirrels.\",\n",
        "    \"and then vanished into thin air, never to be seen again!\"\n",
        "]\n",
        "def main():\n",
        "    adjective = input(\"Enter a funny adjective (e.g., wobbly, smelly): \")\n",
        "    noun = input(\"Enter a silly noun (e.g., platypus, banana): \")\n",
        "    verb = input(\"Enter a ridiculous verb (e.g., wiggle, moonwalk): \")\n",
        "\n",
        "\n",
        "    print(f\"The {adjective} {noun} decided to {verb} all day long {random.choice(funny_endings)}\")\n",
        "\n",
        "\n",
        "# This provided line is required at the end of\n",
        "# Python file to call the main() function.\n",
        "if __name__ == '__main__':\n",
        "    main()"
      ],
      "metadata": {
        "colab": {
          "base_uri": "https://localhost:8080/"
        },
        "id": "x3JgtR7WFqTl",
        "outputId": "a049af95-46cb-43fd-e441-c6efd2c12c32"
      },
      "execution_count": null,
      "outputs": [
        {
          "output_type": "stream",
          "name": "stdout",
          "text": [
            "Enter a funny adjective (e.g., wobbly, smelly): smelly\n",
            "Enter a silly noun (e.g., platypus, banana): cat\n",
            "Enter a ridiculous verb (e.g., wiggle, moonwalk): play\n",
            "The smelly cat decided to play all day long and caused a national emergency!\n"
          ]
        }
      ]
    }
  ]
}