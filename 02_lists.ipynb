{
  "nbformat": 4,
  "nbformat_minor": 0,
  "metadata": {
    "colab": {
      "provenance": [],
      "authorship_tag": "ABX9TyP7V7YHQq6nQTjaIHeDX4rG",
      "include_colab_link": true
    },
    "kernelspec": {
      "name": "python3",
      "display_name": "Python 3"
    },
    "language_info": {
      "name": "python"
    }
  },
  "cells": [
    {
      "cell_type": "markdown",
      "metadata": {
        "id": "view-in-github",
        "colab_type": "text"
      },
      "source": [
        "<a href=\"https://colab.research.google.com/github/eshaadeel0967/python-assignment-04/blob/main/02_lists.ipynb\" target=\"_parent\"><img src=\"https://colab.research.google.com/assets/colab-badge.svg\" alt=\"Open In Colab\"/></a>"
      ]
    },
    {
      "cell_type": "markdown",
      "source": [
        "# **Add many Numbers**\n",
        "Write a function that takes a list of numbers and returns the sum of those numbers."
      ],
      "metadata": {
        "id": "N5Q8UFieR72u"
      }
    },
    {
      "cell_type": "code",
      "execution_count": null,
      "metadata": {
        "colab": {
          "base_uri": "https://localhost:8080/"
        },
        "id": "gwzrSf_M0RZG",
        "outputId": "4d1f9fc9-7b77-4989-9085-501cfd28bb7e"
      },
      "outputs": [
        {
          "output_type": "stream",
          "name": "stdout",
          "text": [
            "Enter a list of numbers separated by spaces: 3 4 5 6\n",
            "['3', '4', '5', '6']\n",
            "18\n"
          ]
        }
      ],
      "source": [
        "def add_many_numbers(numbers : int)-> int:\n",
        "    total_so_far: int = 0\n",
        "    print(numbers)\n",
        "    for number in numbers:\n",
        "        total_so_far += int(number)\n",
        "\n",
        "    return total_so_far\n",
        "\n",
        "def main():\n",
        "    numbers = input(\"Enter a list of numbers separated by spaces: \").split()\n",
        "    list(map(int, numbers))\n",
        "    sum_of_numbers: int = add_many_numbers(numbers)\n",
        "    print(sum_of_numbers)\n",
        "\n",
        "\n",
        "if __name__ == '__main__':\n",
        "    main()"
      ]
    },
    {
      "cell_type": "markdown",
      "source": [
        "# **02_Double_list**\n",
        "\n",
        "Write a program that doubles each element in a list of numbers. For example, if you start with this list:\n",
        "\n",
        "numbers = [1, 2, 3, 4]\n",
        "\n",
        "You should end with this list:\n",
        "\n",
        "numbers = [2, 4, 6, 8]"
      ],
      "metadata": {
        "id": "UL9mK7TF3CC6"
      }
    },
    {
      "cell_type": "code",
      "source": [
        "def main():\n",
        "    numbers = input(\"Enter a list of numbers separated by spaces: \").split()\n",
        "    numbers = list(map(int, numbers))\n",
        "    for i in range(len(numbers)):  # Loop through the indices of the list\n",
        "        elem_at_index = numbers[i]  # Get the element at index i in the numbers list\n",
        "        numbers[i] = elem_at_index * 2  # Set the element at index i to be equal to the previous element times 2\n",
        "\n",
        "    print(numbers)  # This should print the doubled list\n",
        "\n",
        "\n",
        "# There is no need to edit code beyond this point\n",
        "\n",
        "if __name__ == '__main__':\n",
        "    main()"
      ],
      "metadata": {
        "colab": {
          "base_uri": "https://localhost:8080/"
        },
        "id": "lGZdefam3Mb1",
        "outputId": "4618590a-2303-4115-d9c6-cc1f1f26b051"
      },
      "execution_count": null,
      "outputs": [
        {
          "output_type": "stream",
          "name": "stdout",
          "text": [
            "Enter a list of numbers separated by spaces: 5 6 7 8\n",
            "[10, 12, 14, 16]\n"
          ]
        }
      ]
    },
    {
      "cell_type": "markdown",
      "source": [
        "# **03_Erase_Canvas**\n",
        "\n",
        "Implement an 'eraser' on a canvas.\n",
        "\n",
        "The canvas consists of a grid of blue 'cells' which are drawn as rectangles on the screen. We then create an eraser rectangle which, when dragged around the canvas, sets all of the rectangles it is in contact with to white.\n",
        "\n",
        "\n",
        "[Github Link](https://github.com/eshaadeel0967/python-assignment-04/blob/main/03_eraser.py)\n"
      ],
      "metadata": {
        "id": "5UjqSfsw3o2Z"
      }
    },
    {
      "cell_type": "markdown",
      "source": [
        "# **4_flowing_with_data_structures**\n",
        "\n"
      ],
      "metadata": {
        "id": "pUHatgaoAXmU"
      }
    },
    {
      "cell_type": "code",
      "source": [
        "def add_three_copies(my_list, data):\n",
        "    for i in range(3):\n",
        "        my_list.append(data)\n",
        "\n",
        "########## No need to edit code past this point\n",
        "\n",
        "def main():\n",
        "    message = input(\"Enter a message to copy: \")\n",
        "    my_list = []\n",
        "    print(\"List before:\", my_list)\n",
        "    add_three_copies(my_list, message)\n",
        "    print(\"List after:\", my_list)\n",
        "\n",
        "if __name__ == \"__main__\":\n",
        "    main()"
      ],
      "metadata": {
        "colab": {
          "base_uri": "https://localhost:8080/"
        },
        "id": "o3OlK412AjXX",
        "outputId": "d2138996-84da-42ec-a505-a659a0a337e0"
      },
      "execution_count": null,
      "outputs": [
        {
          "output_type": "stream",
          "name": "stdout",
          "text": [
            "Enter a message to copy: Esha\n",
            "List before: []\n",
            "List after: ['Esha', 'Esha', 'Esha']\n"
          ]
        }
      ]
    },
    {
      "cell_type": "markdown",
      "source": [
        "# **05_get_first_item**\n",
        "\n",
        "Fill out the function get_first_element(lst) which takes in a list lst as a parameter and prints the first element in the list. The list is guaranteed to be non-empty."
      ],
      "metadata": {
        "id": "WosScooaUE8O"
      }
    },
    {
      "cell_type": "code",
      "source": [
        "def get_first_item(list):\n",
        "  print(list[0])\n",
        "\n",
        "def get_list():\n",
        "  list = []\n",
        "  elem = input(\"Enter a list of element \")\n",
        "  while len(elem) > 0:\n",
        "    list.append(elem)\n",
        "    elem = input(\"Enter a list of element \")\n",
        "  return list\n",
        "\n",
        "def main():\n",
        "    list = get_list()\n",
        "    get_first_item(list)\n",
        "\n",
        "\n",
        "# This provided line is required at the end of\n",
        "# Python file to call the main() function.\n",
        "if __name__ == '__main__':\n",
        "    main()"
      ],
      "metadata": {
        "colab": {
          "base_uri": "https://localhost:8080/"
        },
        "id": "hrgzHnTjUZD9",
        "outputId": "af9291c7-c95e-4a42-adfe-2def50615db7"
      },
      "execution_count": null,
      "outputs": [
        {
          "output_type": "stream",
          "name": "stdout",
          "text": [
            "Enter a list of element separated by spaces: 1 2 3 4\n",
            "Enter a list of element separated by spaces: 2 4 6 8\n",
            "Enter a list of element separated by spaces: \n",
            "['1', '2', '3', '4']\n"
          ]
        }
      ]
    },
    {
      "cell_type": "markdown",
      "source": [
        "# **06_get_last_element**\n",
        "\n",
        "Fill out the function get_last_element(lst) which takes in a list lst as a parameter and prints the last element in the list. The list is guaranteed to be non-empty, but there are no guarantees on its length."
      ],
      "metadata": {
        "id": "-3SN24XnUyLU"
      }
    },
    {
      "cell_type": "code",
      "source": [
        "def get_last_element(lst):\n",
        "  print(lst[-1])\n",
        "\n",
        "def main():\n",
        "  lst = [1,2,3,4,5]\n",
        "  get_last_element(lst)\n",
        "\n",
        "if __name__ == \"__main__\":\n",
        "  main()"
      ],
      "metadata": {
        "colab": {
          "base_uri": "https://localhost:8080/"
        },
        "id": "IaOkV2OdUxuW",
        "outputId": "b8618f9a-0f41-4476-bc11-0d6c680ab6f4"
      },
      "execution_count": 1,
      "outputs": [
        {
          "output_type": "stream",
          "name": "stdout",
          "text": [
            "5\n"
          ]
        }
      ]
    },
    {
      "cell_type": "markdown",
      "source": [
        "# **07_get_list**\n",
        "\n",
        "Write a program which continuously asks the user to enter values which are added one by one into a list. When the user presses enter without typing anything, print the list."
      ],
      "metadata": {
        "id": "09Sv13kPWN6O"
      }
    },
    {
      "cell_type": "code",
      "source": [
        "def main():\n",
        "  lst = []\n",
        "  val = input(\"Enter a value to add to the list: \")\n",
        "  while val:\n",
        "    lst.append(val)\n",
        "    val = input(\"Enter a value to add to the list: \")\n",
        "  print(\"Here is the list: \", lst)\n",
        "\n",
        "if __name__ == \"__main__\":\n",
        "  main()"
      ],
      "metadata": {
        "colab": {
          "base_uri": "https://localhost:8080/"
        },
        "id": "54Vrz9HYWevh",
        "outputId": "7d6f8c46-2d9c-4642-e730-4b40e32540a3"
      },
      "execution_count": 2,
      "outputs": [
        {
          "output_type": "stream",
          "name": "stdout",
          "text": [
            "Enter a value to add to the list: 1\n",
            "Enter a value to add to the list: 2\n",
            "Enter a value to add to the list: 3\n",
            "Enter a value to add to the list: 4\n",
            "Enter a value to add to the list: \n",
            "Here is the list:  ['1', '2', '3', '4']\n"
          ]
        }
      ]
    },
    {
      "cell_type": "markdown",
      "source": [
        "# **08_Shorten**\n",
        "\n",
        "Fill out the function shorten(lst) which removes elements from the end of lst, which is a list, and prints each item it removes until lst is MAX_LENGTH items long. If lst is already shorter than MAX_LENGTH you should leave it unchanged. We've written a main() function for you which gets a list and passes it into your function once you run the program."
      ],
      "metadata": {
        "id": "SlbPeK-UWmD-"
      }
    },
    {
      "cell_type": "code",
      "source": [
        "MAX_LENGTH:int = 3\n",
        "def shorten(lst):\n",
        "  while len(lst) > MAX_LENGTH:\n",
        "    last_element = lst.pop()\n",
        "    print(last_element)\n",
        "\n",
        "def get_lst():\n",
        "  lst = []\n",
        "  element = input(\"Enter an element to add to the list: \")\n",
        "  while element != \"\":\n",
        "    lst.append(element)\n",
        "    element = input(\"Enter an element to add to the list: \")\n",
        "  return lst\n",
        "\n",
        "def main():\n",
        "  lst = get_lst()\n",
        "  shorten(lst)\n",
        "\n",
        "if __name__ == \"__main__\":\n",
        "  main()"
      ],
      "metadata": {
        "colab": {
          "base_uri": "https://localhost:8080/"
        },
        "id": "xS5zzrmyW78e",
        "outputId": "2cd5ae06-1327-4600-877b-465dec4e1d77"
      },
      "execution_count": 3,
      "outputs": [
        {
          "output_type": "stream",
          "name": "stdout",
          "text": [
            "Enter an element to add to the list: 1\n",
            "Enter an element to add to the list: 2\n",
            "Enter an element to add to the list: 3\n",
            "Enter an element to add to the list: 4\n",
            "Enter an element to add to the list: \n",
            "4\n"
          ]
        }
      ]
    }
  ]
}