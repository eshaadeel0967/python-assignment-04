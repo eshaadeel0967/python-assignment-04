{
  "nbformat": 4,
  "nbformat_minor": 0,
  "metadata": {
    "colab": {
      "provenance": [],
      "include_colab_link": true
    },
    "kernelspec": {
      "name": "python3",
      "display_name": "Python 3"
    },
    "language_info": {
      "name": "python"
    }
  },
  "cells": [
    {
      "cell_type": "markdown",
      "metadata": {
        "id": "view-in-github",
        "colab_type": "text"
      },
      "source": [
        "<a href=\"https://colab.research.google.com/github/eshaadeel0967/python-assignment-04/blob/main/04_dictionaries.ipynb\" target=\"_parent\"><img src=\"https://colab.research.google.com/assets/colab-badge.svg\" alt=\"Open In Colab\"/></a>"
      ]
    },
    {
      "cell_type": "code",
      "source": [
        "def count_numbers():\n",
        "  count_dict = {}\n",
        "\n",
        "  while True:\n",
        "    num = input(\"Enter a number (or 'Exit' to quit): \")\n",
        "    if num.lower() == 'Exit':\n",
        "      break\n",
        "    if num.isdigit():\n",
        "      num = int(num)\n",
        "      count_dict[num] = count_dict.get(num, 0) + 1\n",
        "      print(count_dict)\n",
        "    else:\n",
        "      print(\"Invalid input. Please enter a number or 'Exit'.\")\n",
        "      return count_dict\n",
        "\n",
        "def display_counts(count_dict):\n",
        "  print(\"\\n Number Counts:\")\n",
        "  for key,value in count_dict.items():\n",
        "      print(f'{key} appears {value} times')\n",
        "\n",
        "\n",
        "if __name__ == \"__main__\":\n",
        "  count = count_numbers()\n",
        "  display_counts(count)\n",
        "\n"
      ],
      "metadata": {
        "colab": {
          "base_uri": "https://localhost:8080/"
        },
        "id": "YDFxhfeCntNT",
        "outputId": "db4496db-1bd0-415b-f783-5bf595a55de1"
      },
      "execution_count": 2,
      "outputs": [
        {
          "output_type": "stream",
          "name": "stdout",
          "text": [
            "Enter a number (or 'Exit' to quit): 1\n",
            "{1: 1}\n",
            "Enter a number (or 'Exit' to quit): 2\n",
            "{1: 1, 2: 1}\n",
            "Enter a number (or 'Exit' to quit): 1\n",
            "{1: 2, 2: 1}\n",
            "Enter a number (or 'Exit' to quit): 2\n",
            "{1: 2, 2: 2}\n",
            "Enter a number (or 'Exit' to quit): Exit\n",
            "Invalid input. Please enter a number or 'Exit'.\n",
            "\n",
            " Number Counts:\n",
            "1 appears 2 times\n",
            "2 appears 2 times\n"
          ]
        }
      ]
    },
    {
      "cell_type": "markdown",
      "source": [
        "# **01_phonebook**\n",
        "\n",
        "In this program we show an example of using dictionaries to keep track of information in a phonebook."
      ],
      "metadata": {
        "id": "1cqZqye_kdCC"
      }
    },
    {
      "cell_type": "code",
      "source": [
        "def add_contact(phonebook):\n",
        "  name = input(\"Enter contact name: \")\n",
        "  number = input(\"Enter contact number: \")\n",
        "\n",
        "  if name in phonebook:\n",
        "    print(f\"{name} already exists in the phonebook.\")\n",
        "  else:\n",
        "    phonebook[name] = number\n",
        "    print(f\"{name} added to the phonebook.\")\n",
        "\n",
        "def search_contact(phonebook):\n",
        "  name = input(\"Enter contact name to search: \")\n",
        "\n",
        "  if name in phonebook:\n",
        "    print(f\"{name}: {phonebook[name]}\")\n",
        "  else:\n",
        "    print(f\"{name} not found in the phonebook.\")\n",
        "\n",
        "def delete_contact(phonebook):\n",
        "  name = input(\"Enter contact name to delete: \")\n",
        "  if name in phonebook:\n",
        "    del phonebook[name]\n",
        "    print(f\"{name} deleted from the phonebook.\")\n",
        "  else:\n",
        "    print(f\"{name} not found in phonebook.\")\n",
        "\n",
        "\n",
        "def display_contact(phonebook):\n",
        "  if phonebook:\n",
        "    print(\"\\n Phonebook Contacts list\")\n",
        "    for name,number in phonebook.items():\n",
        "      print(f\"{name}: {number}\")\n",
        "  else:\n",
        "    print(\"Phonebook is empty.\")\n",
        "\n",
        "if __name__ == \"__main__\":\n",
        "  phonebook = {}\n",
        "\n",
        "  while True:\n",
        "    print(\"\\n Phonebook Menu\")\n",
        "    print(\"1. Add Contact\")\n",
        "    print(\"2. Search Contact\")\n",
        "    print(\"3. Delete Contact\")\n",
        "    print(\"4. Display Contacts\")\n",
        "    print(\"5. Exit\")\n",
        "\n",
        "    choice = input(\"Enter your choice (1-5): \")\n",
        "\n",
        "    if choice == '1':\n",
        "      add_contact(phonebook)\n",
        "    elif choice == '2':\n",
        "      search_contact(phonebook)\n",
        "    elif choice == '3':\n",
        "      delete_contact(phonebook)\n",
        "    elif choice == '4':\n",
        "      display_contact(phonebook)\n",
        "    elif choice == '5':\n",
        "      print(\"Exiting Phonebook. Goodbye!\")\n",
        "      break\n",
        "    else:\n",
        "      print(\"Invalid choice. Please enter a number between 1 to 5.\")"
      ],
      "metadata": {
        "colab": {
          "base_uri": "https://localhost:8080/"
        },
        "id": "p-IuEl4Aw-mw",
        "outputId": "690ee488-c3a4-453e-ea7a-3697ab107a4a"
      },
      "execution_count": 3,
      "outputs": [
        {
          "output_type": "stream",
          "name": "stdout",
          "text": [
            "\n",
            " Phonebook Menu\n",
            "1. Add Contact\n",
            "2. Search Contact\n",
            "3. Delete Contact\n",
            "4. Display Contacts\n",
            "5. Exit\n",
            "Enter your choice (1-5): 1\n",
            "Enter contact name: Esha\n",
            "Enter contact number: 03031234567\n",
            "Esha added to the phonebook.\n",
            "\n",
            " Phonebook Menu\n",
            "1. Add Contact\n",
            "2. Search Contact\n",
            "3. Delete Contact\n",
            "4. Display Contacts\n",
            "5. Exit\n",
            "Enter your choice (1-5): 5\n",
            "Exiting Phonebook. Goodbye!\n"
          ]
        }
      ]
    },
    {
      "cell_type": "markdown",
      "source": [
        "# **02_pop_up_shop**\n",
        "\n",
        "Write a program that loops through a dictionary of fruits, prompting the user to see how many of each fruit they want to buy, and then prints out the total combined cost of all of the fruits."
      ],
      "metadata": {
        "id": "Q6Ld8ftvk2og"
      }
    },
    {
      "cell_type": "code",
      "source": [
        "def calculate_total_cost():\n",
        "  fruits_price = {\n",
        "      \"apple\":5.0,\n",
        "      \"mango\":15.0,\n",
        "      \"kiwi\":8.0,\n",
        "      \"pear\":12.0,\n",
        "      \"banana\":6.0,\n",
        "      \"orange\":10.0\n",
        "  }\n",
        "\n",
        "  total_cost = 0\n",
        "\n",
        "  for fruit,price in fruits_price.items():\n",
        "    while True:\n",
        "      try:\n",
        "        quantity = int(input(f'How many {fruit} do you want?: '))\n",
        "        if quantity < 0:\n",
        "          print(\"Invalid input. Please enter a non-negative number.\")\n",
        "          continue\n",
        "        total_cost += price * quantity\n",
        "        break\n",
        "      except ValueError:\n",
        "        print(\"Invalid input. Please enter a valid number.\")\n",
        "\n",
        "    print(f\"\\n Your total cost is: ${total_cost:.2f}\")\n",
        "\n",
        "if __name__ == \"__main__\":\n",
        "  calculate_total_cost()\n"
      ],
      "metadata": {
        "colab": {
          "base_uri": "https://localhost:8080/"
        },
        "id": "2GJu8UGB0h5i",
        "outputId": "a63e6d22-b094-42d5-8623-95fcd679baaa"
      },
      "execution_count": 4,
      "outputs": [
        {
          "output_type": "stream",
          "name": "stdout",
          "text": [
            "How many apple do you want?: 1\n",
            "\n",
            " Your total cost is: $5.00\n",
            "How many mango do you want?: 5\n",
            "\n",
            " Your total cost is: $80.00\n",
            "How many kiwi do you want?: 3\n",
            "\n",
            " Your total cost is: $104.00\n",
            "How many pear do you want?: 2\n",
            "\n",
            " Your total cost is: $128.00\n",
            "How many banana do you want?: 5\n",
            "\n",
            " Your total cost is: $158.00\n",
            "How many orange do you want?: 6\n",
            "\n",
            " Your total cost is: $218.00\n"
          ]
        }
      ]
    },
    {
      "cell_type": "markdown",
      "source": [
        "# **03_powerful_passwords**\n",
        "\n",
        "You want to be safe online and use different passwords for different websites. However, you are forgetful at times and want to make a program that can match which password belongs to which website without storing the actual password!\n",
        "\n",
        "This can be done via something called hashing. Hashing is when we take something and convert it into a different, unique identifier. This is done using a hash function. Luckily, there are several resources that can help us with this.\n",
        "\n",
        "For example, using a hash function called SHA256(...) something as simple as\n",
        "\n",
        "hello"
      ],
      "metadata": {
        "id": "HRCLUskOlK7C"
      }
    },
    {
      "cell_type": "code",
      "source": [
        "import hashlib\n",
        "\n",
        "def hash_password(password):\n",
        "  return hashlib.sha256(password.encode()).hexdigest()\n",
        "\n",
        "stored_logins = {\n",
        "    \"user@example.com\":hash_password(\"password123\"),\n",
        "    \"admin@example.com\":hash_password(\"adminpass\")\n",
        "}\n",
        "\n",
        "def login(email,password):\n",
        "  if email in stored_logins:\n",
        "    return stored_logins[email] == hash_password(password)\n",
        "  return False\n",
        "\n",
        "\n",
        "if __name__ == \"__main__\":\n",
        "  email = input(\"Enter your email: \")\n",
        "  password = input(\"Enter your password: \")\n",
        "\n",
        "\n",
        "  if login(email,password):\n",
        "    print(\"Login successful!\")\n",
        "  else:\n",
        "    print(\"Invalid email or password.\")\n",
        "\n",
        "\n"
      ],
      "metadata": {
        "colab": {
          "base_uri": "https://localhost:8080/"
        },
        "id": "PtsInyIy3_7A",
        "outputId": "e86edec3-c259-44c7-e659-89f8f0b5bb92"
      },
      "execution_count": 6,
      "outputs": [
        {
          "output_type": "stream",
          "name": "stdout",
          "text": [
            "Enter your email: admin@example.com\n",
            "Enter your password: adminpass\n",
            "Login successful!\n"
          ]
        }
      ]
    }
  ]
}