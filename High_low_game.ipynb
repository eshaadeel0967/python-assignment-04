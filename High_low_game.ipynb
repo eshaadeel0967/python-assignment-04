{
  "nbformat": 4,
  "nbformat_minor": 0,
  "metadata": {
    "colab": {
      "provenance": [],
      "authorship_tag": "ABX9TyM2jyRPtiXjssCnn9yAghUR",
      "include_colab_link": true
    },
    "kernelspec": {
      "name": "python3",
      "display_name": "Python 3"
    },
    "language_info": {
      "name": "python"
    }
  },
  "cells": [
    {
      "cell_type": "markdown",
      "metadata": {
        "id": "view-in-github",
        "colab_type": "text"
      },
      "source": [
        "<a href=\"https://colab.research.google.com/github/eshaadeel0967/python-assignment-04/blob/main/High_low_game.ipynb\" target=\"_parent\"><img src=\"https://colab.research.google.com/assets/colab-badge.svg\" alt=\"Open In Colab\"/></a>"
      ]
    },
    {
      "cell_type": "markdown",
      "source": [
        "# **High_Low_Game**\n",
        "\n"
      ],
      "metadata": {
        "id": "KdsVhgue5bB0"
      }
    },
    {
      "cell_type": "code",
      "execution_count": 1,
      "metadata": {
        "colab": {
          "base_uri": "https://localhost:8080/"
        },
        "id": "e4qx9UQe5aEV",
        "outputId": "39094fc0-818b-40a2-b85c-f082d6300b77"
      },
      "outputs": [
        {
          "output_type": "stream",
          "name": "stdout",
          "text": [
            "High Low Game\n",
            "Welcome to the High Low Game\n",
            "*****************************\n",
            "Round 1\n",
            "Your number is 47\n",
            "Do you think your number is higher or lower than the computer's number? lower\n",
            "You were right! The computer's number was 95\n",
            "Your score is now 1\n",
            "\n",
            "Round 2\n",
            "Your number is 33\n",
            "Do you think your number is higher or lower than the computer's number? higher\n",
            "That's incorrect.The computer's number was 65\n",
            "Your score is now 1\n",
            "\n",
            "Round 3\n",
            "Your number is 98\n",
            "Do you think your number is higher or lower than the computer's number? higher\n",
            "You were right! The computer's number was 14\n",
            "Your score is now 2\n",
            "\n",
            "Round 4\n",
            "Your number is 6\n",
            "Do you think your number is higher or lower than the computer's number? lower\n",
            "You were right! The computer's number was 22\n",
            "Your score is now 3\n",
            "\n",
            "Round 5\n",
            "Your number is 57\n",
            "Do you think your number is higher or lower than the computer's number? lower\n",
            "You were right! The computer's number was 86\n",
            "Your score is now 4\n",
            "\n",
            "Thanks for playing!\n"
          ]
        }
      ],
      "source": [
        "import random\n",
        "print(\"High Low Game\")\n",
        "\n",
        "round = 5\n",
        "\n",
        "def main():\n",
        "  print(\"Welcome to the High Low Game\")\n",
        "  print(\"*****************************\")\n",
        "\n",
        "  your_score = 0\n",
        "\n",
        "  for i in range(round):\n",
        "    print(\"Round\", i + 1)\n",
        "\n",
        "    computer_number : int = random.randint(1,100)\n",
        "    your_number:int = random.randint(1,100)\n",
        "    print(\"Your number is\" , your_number)\n",
        "\n",
        "    choice:str = input(\"\"\"Do you think your number is higher or lower than the computer's number? \"\"\")\n",
        "    higher_and_correct:bool = choice == \"higher\" and your_number > computer_number\n",
        "    lower_and_correct:bool = choice == \"lower\" and your_number < computer_number\n",
        "\n",
        "    if higher_and_correct or lower_and_correct:\n",
        "      print(\"You were right! The computer\\'s number was\",computer_number)\n",
        "      your_score += 1\n",
        "    else:\n",
        "      print(\"That\\'s incorrect.The computer\\'s number was\",computer_number)\n",
        "\n",
        "    print(\"Your score is now\",your_score)\n",
        "    print()\n",
        "\n",
        "  print(\"Thanks for playing!\")\n",
        "\n",
        "\n",
        "if __name__ == \"__main__\":\n",
        "  main()"
      ]
    }
  ]
}