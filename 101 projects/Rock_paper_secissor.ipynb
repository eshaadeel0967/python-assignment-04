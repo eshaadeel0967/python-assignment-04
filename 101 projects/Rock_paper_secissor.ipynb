{
  "cells": [
    {
      "cell_type": "code",
      "execution_count": null,
      "metadata": {
        "colab": {
          "base_uri": "https://localhost:8080/"
        },
        "id": "0jf24E_sB3C2",
        "outputId": "283e6ae5-1b01-4e86-f911-60c6d010503a"
      },
      "outputs": [
        {
          "name": "stdout",
          "output_type": "stream",
          "text": [
            "\n",
            " ✨Welcome to the Rock 🪨 Paper 📄 Scissors ✂️ Game.✨ \n",
            "\n",
            "🎲 Let's play Rock, Paper, Scissors with a twist! 🎉 (Type 'q' to quit)\n",
            "👉 Your move (rock/paper/scissors): rock\n",
            "🤖 Computer chose: 🪨 rock\n",
            "🤝 It's a tie!\n",
            "📊 Score: You 0 - 0 Computer\n",
            "\n",
            "👉 Your move (rock/paper/scissors): paper\n",
            "🤖 Computer chose: ✂️ scissor\n",
            "💀 You lose this round!\n",
            "📊 Score: You 0 - 1 Computer\n",
            "\n",
            "👉 Your move (rock/paper/scissors): rock\n",
            "🤖 Computer chose: 🪨 rock\n",
            "🤝 It's a tie!\n",
            "📊 Score: You 0 - 1 Computer\n",
            "\n"
          ]
        }
      ],
      "source": [
        "import random\n",
        "print(\"\\n ✨Welcome to the Rock 🪨 Paper 📄 Scissors ✂️ Game.✨ \\n\")\n",
        "\n",
        "choices={\"rock\":\"🪨\",\"paper\":\"📄\",\"scissor\":\"✂️\"}\n",
        "user_score = computer_score = 0\n",
        "\n",
        "print(\"🎲 Let's play Rock, Paper, Scissors with a twist! 🎉 (Type 'q' to quit)\")\n",
        "\n",
        "while True:\n",
        "  user = input(\"👉 Your move (rock/paper/scissors): \").lower()\n",
        "  if user == 'q':\n",
        "    print(f\"🏆 Final Score - You: {user_score} | Computer: {computer_score}\")\n",
        "    print(\"👋 Nice Play! Thanks for playing.\")\n",
        "    break\n",
        "    if user not in choices:\n",
        "        print(\"⚠️ Invalid choice! Try again.\")\n",
        "        continue\n",
        "  computer = random.choice(list(choices))\n",
        "  print(f\"🤖 Computer chose: {choices[computer]} {computer}\")\n",
        "\n",
        "  if user == computer:\n",
        "      print(\"🤝 It's a tie!\")\n",
        "  elif (user == \"rock\" and computer == \"scissors\") or \\\n",
        "        (user == \"paper\" and computer == \"rock\") or \\\n",
        "        (user == \"scissors\" and computer == \"paper\"):\n",
        "        user_score += 1\n",
        "        print(\"🎉 You win this round!\")\n",
        "  else:\n",
        "        computer_score += 1\n",
        "        print(\"💀 You lose this round!\")\n",
        "\n",
        "  print(f\"📊 Score: You {user_score} - {computer_score} Computer\\n\")"
      ]
    }
  ],
  "metadata": {
    "colab": {
      "authorship_tag": "ABX9TyM+FCjxCDgPVF+SSa3L/+fG",
      "include_colab_link": true,
      "provenance": []
    },
    "kernelspec": {
      "display_name": "Python 3",
      "name": "python3"
    },
    "language_info": {
      "name": "python"
    }
  },
  "nbformat": 4,
  "nbformat_minor": 0
}
