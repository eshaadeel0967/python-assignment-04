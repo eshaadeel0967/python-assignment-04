{
  "nbformat": 4,
  "nbformat_minor": 0,
  "metadata": {
    "colab": {
      "provenance": []
    },
    "kernelspec": {
      "name": "python3",
      "display_name": "Python 3"
    },
    "language_info": {
      "name": "python"
    }
  },
  "cells": [
    {
      "cell_type": "code",
      "execution_count": 1,
      "metadata": {
        "colab": {
          "base_uri": "https://localhost:8080/"
        },
        "id": "WAkEQwWtNHVg",
        "outputId": "4bc4de0d-b9d3-4e7c-db39-046abe8b7568"
      },
      "outputs": [
        {
          "output_type": "stream",
          "name": "stdout",
          "text": [
            "Welcome to Hangman!\n",
            "You have 6 lives left and you have used these letters: \n",
            "Current word: - - - - - -\n",
            "Guess a letter: a\n",
            "You have 6 lives left and you have used these letters: A\n",
            "Current word: - A - - - -\n",
            "Guess a letter: e\n",
            "You have 6 lives left and you have used these letters: E A\n",
            "Current word: - A - - - E\n",
            "Guess a letter: l\n",
            "You have 6 lives left and you have used these letters: E A L\n",
            "Current word: - A - - L E\n",
            "Guess a letter: c\n",
            "You have 6 lives left and you have used these letters: C E A L\n",
            "Current word: C A - - L E\n",
            "Guess a letter: n\n",
            "You have 6 lives left and you have used these letters: A L N C E\n",
            "Current word: C A N - L E\n",
            "Guess a letter: d\n",
            "Congratulations! You guessed the word CANDLE correctly!\n"
          ]
        }
      ],
      "source": [
        "import random\n",
        "words = [\n",
        "    \"Breeze\", \"Candle\", \"Harmony\", \"Lively\", \"Mystic\", \"Pebble\", \"Timber\",\n",
        "    \"Voyage\", \"Wander\", \"Zephyr\", \"Cascade\", \"Fortune\", \"Glisten\", \"Harbor\",\n",
        "    \"Jungle\", \"Lantern\", \"Meadow\", \"Nectar\", \"Oasis\", \"Quiver\", \"Chamber\",\n",
        "    \"Echoes\", \"Flame\", \"Glory\", \"Horizon\", \"Ivory\", \"Journey\", \"Kettle\",\n",
        "    \"Lagoon\", \"Majesty\", \"Noble\", \"Opal\", \"Pine\", \"Quest\", \"Radiance\",\n",
        "    \"Seeker\", \"Tapestry\", \"Umbra\", \"Vibrant\", \"Wander\", \"Xenon\", \"Yearn\",\n",
        "    \"Zeal\", \"Bliss\", \"Cinder\", \"Dawn\", \"Effort\", \"Flare\", \"Glimmer\", \"Haven\",\n",
        "    \"Inferno\", \"Jovial\"\n",
        "]\n",
        "\n",
        "def get_valid_word():\n",
        "    word = random.choice(words)\n",
        "    while '-' in word or ' ' in word:\n",
        "        word = random.choice(words)\n",
        "    return word.upper()\n",
        "def main():\n",
        "    word = get_valid_word()\n",
        "    word_letters = set(word)\n",
        "    alphabet = set('ABCDEFGHIJKLMNOPQRSTUVWXYZ')\n",
        "    used_letters = set()\n",
        "\n",
        "    lives = 6\n",
        "\n",
        "    while len(word_letters) > 0 and lives > 0:\n",
        "        print(f'You have {lives} lives left and you have used these letters: {\" \".join(used_letters)}')\n",
        "        word_list = [letter if letter in used_letters else '-' for letter in word]\n",
        "        print('Current word:', ' '.join(word_list))\n",
        "        user_letter = input('Guess a letter: ').upper()\n",
        "        if user_letter in alphabet - used_letters:\n",
        "            used_letters.add(user_letter)\n",
        "            if user_letter in word_letters:\n",
        "                word_letters.remove(user_letter)\n",
        "            else:\n",
        "                lives -= 1\n",
        "                print(f'Letter {user_letter} is not in the word.')\n",
        "        elif user_letter in used_letters:\n",
        "            print('You have already guessed that letter. Try again.')\n",
        "        else:\n",
        "            print('Invalid character. Please enter a letter from A-Z.')\n",
        "\n",
        "    if lives == 0:\n",
        "        print(f'Sorry, you died. The word was {word}.')\n",
        "    else:\n",
        "        print(f'Congratulations! You guessed the word {word} correctly!')\n",
        "if __name__ == '__main__':\n",
        "    print('Welcome to Hangman!')\n",
        "    main()"
      ]
    }
  ]
}