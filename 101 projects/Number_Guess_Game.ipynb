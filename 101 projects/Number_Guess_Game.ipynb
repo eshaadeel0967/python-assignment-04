{
  "nbformat": 4,
  "nbformat_minor": 0,
  "metadata": {
    "colab": {
      "provenance": []
    },
    "kernelspec": {
      "name": "python3",
      "display_name": "Python 3"
    },
    "language_info": {
      "name": "python"
    }
  },
  "cells": [
    {
      "cell_type": "code",
      "execution_count": 4,
      "metadata": {
        "colab": {
          "base_uri": "https://localhost:8080/"
        },
        "id": "ZdCyMR7pEYHM",
        "outputId": "9a836a3a-03ec-4d3c-f67d-3c6178abfda7"
      },
      "outputs": [
        {
          "output_type": "stream",
          "name": "stdout",
          "text": [
            "\n",
            " ✨Welcome to the Number Guessing Game.✨ \n",
            "\n",
            "\n",
            " 💻 Computer Guess the Number. \n",
            "\n",
            "🤔 Think of a number between 1 and 10, and 💻 will try to guess it!\n",
            "🤖 Is your number 6?\n",
            " 👉 Enter 'h' to indicate the guess is too high, 'l' to indicate the guess is too low, or 'c' to indicate I guessed correctly: h\n",
            "🤖 Is your number 5?\n",
            " 👉 Enter 'h' to indicate the guess is too high, 'l' to indicate the guess is too low, or 'c' to indicate I guessed correctly: c\n",
            "🎉 🎉🎉🎉🎉 Yay! 💻 guess the 5 correctly. 🎉 🎉🎉🎉🎉\n"
          ]
        }
      ],
      "source": [
        "import random\n",
        "print(\"\\n ✨Welcome to the Number Guessing Game.✨ \\n\")\n",
        "print(\"\\n 💻 Computer Guess the Number. \\n\")\n",
        "\n",
        "low = 1\n",
        "high = 10\n",
        "\n",
        "print(\"🤔 Think of a number between 1 and 10, and 💻 will try to guess it!\")\n",
        "while feedback != 'c':\n",
        "  if low <= high:\n",
        "      guess = random.randint(low,high)\n",
        "      print(f\"🤖 Is your number {guess}?\")\n",
        "\n",
        "      feedback=input(\" 👉 Enter 'h' to indicate the guess is too high, 'l' to indicate the guess is too low, or 'c' to indicate I guessed correctly: \").lower()\n",
        "      if feedback=='h':\n",
        "        high = guess - 1\n",
        "      elif feedback == 'l':\n",
        "        low = guess + 1\n",
        "      elif feedback == 'c':\n",
        "        print(f\"🎉 🎉🎉🎉🎉 Yay! 💻 guess the {guess} correctly. 🎉 🎉🎉🎉🎉\")\n",
        "      else:\n",
        "        print(\"⚠️ Invalid input. Please enter only 'h', 'l', or 'c'. 🚫\")\n",
        "\n",
        "  if low > high:\n",
        "      print(\"😅 Hmm... It seems there was a misunderstanding. Let's try again! 🔄\")"
      ]
    }
  ]
}