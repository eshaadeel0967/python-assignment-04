{
  "nbformat": 4,
  "nbformat_minor": 0,
  "metadata": {
    "colab": {
      "provenance": []
    },
    "kernelspec": {
      "name": "python3",
      "display_name": "Python 3"
    },
    "language_info": {
      "name": "python"
    }
  },
  "cells": [
    {
      "cell_type": "code",
      "execution_count": 1,
      "metadata": {
        "colab": {
          "base_uri": "https://localhost:8080/"
        },
        "id": "7F4bs7brMiNu",
        "outputId": "ac5a9084-d161-456b-ea8d-32a1a0f80d39"
      },
      "outputs": [
        {
          "output_type": "stream",
          "name": "stdout",
          "text": [
            "\n",
            " ⏲️⏰⏱️ Welcome to the Countdown Timer. ⏲️⏰⏱️ \n",
            "\n",
            "Enter the time in seconds:5\n",
            "⏳ 00:01 ⏳\n",
            "🚨 Time's up ⏰\n"
          ]
        }
      ],
      "source": [
        "import time\n",
        "print(\"\\n ⏲️⏰⏱️ Welcome to the Countdown Timer. ⏲️⏰⏱️ \\n\")\n",
        "\n",
        "def countdown_timer(seconds):\n",
        "  while seconds:\n",
        "    mins,secs = divmod(seconds,60)\n",
        "    time_display = f\"{mins:02d}:{secs:02d}\"\n",
        "    print(f\"\\r⏳ {time_display} ⏳\", end=\"\")\n",
        "    time.sleep(1)\n",
        "    seconds -= 1\n",
        "  print(\"\\n🚨 Time's up ⏰\")\n",
        "try:\n",
        "    total_time = int(input(\"Enter the time in seconds:\"))\n",
        "    countdown_timer(total_time)\n",
        "except ValueError:\n",
        "    print(\"❌ Invalid input! Please enter a valid input!\")"
      ]
    }
  ]
}