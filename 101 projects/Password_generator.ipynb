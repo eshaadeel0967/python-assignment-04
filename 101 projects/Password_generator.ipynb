{
  "cells": [
    {
      "cell_type": "code",
      "execution_count": null,
      "metadata": {
        "colab": {
          "base_uri": "https://localhost:8080/"
        },
        "id": "KEdAziFq4F5y",
        "outputId": "a33342a6-9c9c-4cb4-d5f7-767947e3f89e"
      },
      "outputs": [
        {
          "name": "stdout",
          "output_type": "stream",
          "text": [
            "Enter password length: 1\n",
            "includes numbers? (yes/no):yes\n",
            "Includes symbols? (yes/no):yes\n",
            "\n",
            "🔑 Your Generated Password:  ❌ Password length is too short for selected options!\n"
          ]
        }
      ],
      "source": [
        "import random\n",
        "import string\n",
        "\n",
        "print(\"\\n ✨Welcome to the Password Generator App.✨ \\n\")\n",
        "def generate_password(length=12,use_numbers=True,use_symbols=True):\n",
        "  '''Generate strong password with given options.'''\n",
        "  if length < (use_numbers + use_symbols):  # Check if length is enough for constraints\n",
        "        return \"❌ Password length is too short for selected options!\"\n",
        "\n",
        "  characters = string.ascii_letters\n",
        "  if use_numbers:\n",
        "    characters += string.digits\n",
        "  if use_symbols:\n",
        "    characters += string.punctuation\n",
        "  password = \"\".join(random.choice(characters) for _ in range(length))\n",
        "  return password\n",
        "\n",
        "try:\n",
        "  length = int(input(\"Enter password length: \"))\n",
        "  use_numbers = input(\"includes numbers? (yes/no):\").lower() == \"yes\"\n",
        "  use_symbols = input(\"Includes symbols? (yes/no):\").lower() == \"yes\"\n",
        "\n",
        "  password = generate_password(length,use_numbers,use_symbols)\n",
        "  print(\"\\n🔑 Your Generated Password: \", password)\n",
        "except ValueError:\n",
        "    print(\"❌ Please enter a valid number!\")"
      ]
    }
  ],
  "metadata": {
    "colab": {
      "authorship_tag": "ABX9TyNSgb2YBiYP7D7W4yl0Wws1",
      "include_colab_link": true,
      "provenance": []
    },
    "kernelspec": {
      "display_name": "Python 3",
      "name": "python3"
    },
    "language_info": {
      "name": "python"
    }
  },
  "nbformat": 4,
  "nbformat_minor": 0
}
