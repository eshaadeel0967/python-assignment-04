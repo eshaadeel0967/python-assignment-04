{
  "nbformat": 4,
  "nbformat_minor": 0,
  "metadata": {
    "colab": {
      "provenance": []
    },
    "kernelspec": {
      "name": "python3",
      "display_name": "Python 3"
    },
    "language_info": {
      "name": "python"
    }
  },
  "cells": [
    {
      "cell_type": "code",
      "execution_count": 2,
      "metadata": {
        "colab": {
          "base_uri": "https://localhost:8080/"
        },
        "id": "8gexFBMM7YlD",
        "outputId": "ea2f61ef-5642-445d-d853-f1a894087db2"
      },
      "outputs": [
        {
          "output_type": "stream",
          "name": "stdout",
          "text": [
            "Enter a funny adjective (e.g., wobbly, smelly): smelly\n",
            "Enter a silly noun (e.g., platypus, banana): banana\n",
            "Enter a ridiculous verb (e.g., wiggle, moonwalk): moonwalk\n",
            "The smelly banana decided to moonwalk all day long before getting arrested by a group of squirrels.\n"
          ]
        }
      ],
      "source": [
        "import random\n",
        "funny_endings = [\n",
        "    \"and caused a national emergency!\",\n",
        "    \"while singing opera to a confused audience.\",\n",
        "    \"before getting arrested by a group of squirrels.\",\n",
        "    \"and then vanished into thin air, never to be seen again!\"\n",
        "]\n",
        "def main():\n",
        "    adjective = input(\"Enter a funny adjective (e.g., wobbly, smelly): \")\n",
        "    noun = input(\"Enter a silly noun (e.g., platypus, banana): \")\n",
        "    verb = input(\"Enter a ridiculous verb (e.g., wiggle, moonwalk): \")\n",
        "\n",
        "\n",
        "    print(f\"The {adjective} {noun} decided to {verb} all day long {random.choice(funny_endings)}\")\n",
        "\n",
        "\n",
        "# This provided line is required at the end of\n",
        "# Python file to call the main() function.\n",
        "if __name__ == '__main__':\n",
        "    main()"
      ]
    }
  ]
}